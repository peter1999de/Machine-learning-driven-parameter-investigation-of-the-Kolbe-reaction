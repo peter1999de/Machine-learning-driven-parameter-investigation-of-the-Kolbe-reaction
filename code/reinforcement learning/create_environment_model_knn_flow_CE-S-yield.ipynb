{
 "cells": [
  {
   "cell_type": "code",
   "execution_count": 1,
   "id": "cec12795-f4af-4981-aeda-d0b138e0402b",
   "metadata": {},
   "outputs": [],
   "source": [
    "import pandas as pd\n",
    "from sklearn.preprocessing import StandardScaler, MinMaxScaler\n",
    "from sklearn.model_selection import train_test_split\n",
    "from sklearn.neighbors import KNeighborsRegressor\n",
    "from sklearn.model_selection import KFold, cross_val_score, ParameterGrid\n",
    "from sklearn.metrics import make_scorer, mean_squared_error, r2_score\n",
    "import numpy as np\n",
    "np.int = int\n",
    "from sklearn.pipeline import make_pipeline\n",
    "from sklearn.base import BaseEstimator, RegressorMixin\n",
    "import matplotlib.pyplot as plt\n",
    "import pickle\n",
    "import warnings\n",
    "warnings.filterwarnings(\"ignore\")\n",
    "\n",
    "#read input data\n",
    "df_input = pd.read_csv('flow-cell.csv', index_col=0)\n",
    "\n",
    "#filter input data\n",
    "indices_to_remove_input = ['FE']\n",
    "filtered_input = df_input.drop(indices_to_remove_input)\n",
    "filtered_input = filtered_input.fillna(0) # fill  empty cells with 0\n",
    "filtered_input = filtered_input.transpose() # change positions of columns and rows\n",
    "filtered_input = filtered_input.loc[:, :'t [min]'] # remove columns after certain column\n",
    "filtered_input = filtered_input.drop(['21065', '21090', '21091', '21097', '21092', '21080']) # remove outlier\n",
    "filtered_input = filtered_input.drop(['21025', '21026', '21027', '21030', '21036']) # remove data without CE\n",
    "#print(filtered_input)\n",
    "\n",
    "#filter output data\n",
    "df_output = pd.read_csv('flow-cell.csv', index_col=0)\n",
    "filtered_output = df_output.loc['CE fuel [%]':, :,] # remove columns after certain column\n",
    "filtered_output = filtered_output.fillna(0) # fill  empty cells with 0\n",
    "filtered_output = filtered_output.transpose() # change positions of columns and rows\n",
    "filtered_output = filtered_output.drop(['21065', '21090', '21091', '21097', '21092', '21080']) # remove outlier\n",
    "filtered_output = filtered_output.drop(['21025', '21026', '21027', '21030', '21036']) # remove data without CE\n",
    "#print(filtered_output)\n",
    "\n",
    "X = filtered_input.values\n",
    "Y = filtered_output[['CE fuel [%]', 'S decane w/o gas [%]','Ydecane total acid [%]']].values\n",
    "#print(Y)"
   ]
  },
  {
   "cell_type": "code",
   "execution_count": 2,
   "id": "d0283dd0-e2bb-4f86-a37d-99d319996604",
   "metadata": {},
   "outputs": [],
   "source": [
    "X_train, X_test, Y_train, Y_test = train_test_split(X, Y, test_size=0.2, random_state=43)\n",
    "\n",
    "# standardize data\n",
    "scaler = StandardScaler()\n",
    "X_train = scaler.fit_transform(X_train)\n",
    "X_test = scaler.transform(X_test)\n",
    "\n",
    "# normalize data with min-max scaling\n",
    "scaler = MinMaxScaler()\n",
    "X_train = scaler.fit_transform(X_train)\n",
    "X_test = scaler.transform(X_test)\n",
    "\n",
    "\n",
    "knn_regressor = KNeighborsRegressor(\n",
    "    n_neighbors=9,\n",
    "    weights='distance',\n",
    "    p=1\n",
    ")\n",
    "\n",
    "\n",
    "model=knn_regressor.fit(X_train, Y_train)\n",
    "\n",
    "\n",
    "#_predict_test_knn = knn_regressor.predict(X_test)\n",
    "#_predict_train_knn = knn_regressor.predict(X_train)\n",
    "\n",
    "#se_training_knn = mean_squared_error(Y_train, Y_predict_train_knn)\n",
    "#se_test_knn = mean_squared_error(Y_test, Y_predict_test_knn)\n",
    "\n",
    "#rint(mse_training_knn)\n",
    "#rint(mse_test_knn)"
   ]
  },
  {
   "cell_type": "code",
   "execution_count": 3,
   "id": "6c7902c5-0060-4d87-ae4d-118b0ed70553",
   "metadata": {},
   "outputs": [],
   "source": [
    "with open('knn_flow_CE-S-yield.sav', 'wb') as file:\n",
    "    pickle.dump(model, file)"
   ]
  }
 ],
 "metadata": {
  "kernelspec": {
   "display_name": "rl-test",
   "language": "python",
   "name": "rl-test"
  },
  "language_info": {
   "codemirror_mode": {
    "name": "ipython",
    "version": 3
   },
   "file_extension": ".py",
   "mimetype": "text/x-python",
   "name": "python",
   "nbconvert_exporter": "python",
   "pygments_lexer": "ipython3",
   "version": "3.11.5"
  }
 },
 "nbformat": 4,
 "nbformat_minor": 5
}
